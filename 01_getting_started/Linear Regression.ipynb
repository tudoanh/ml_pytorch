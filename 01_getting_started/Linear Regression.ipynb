{
 "cells": [
  {
   "cell_type": "code",
   "execution_count": 1,
   "metadata": {},
   "outputs": [
    {
     "name": "stdout",
     "output_type": "stream",
     "text": [
      "time: 228 µs (started: 2021-01-26 21:38:58 +07:00)\n"
     ]
    }
   ],
   "source": [
    "import pandas as pd\n",
    "from sklearn.preprocessing import MinMaxScaler\n",
    "from sklearn.metrics import mean_absolute_error\n",
    "import torch\n",
    "from torch import nn\n",
    "from torch.utils.data import random_split, Dataset, DataLoader, TensorDataset\n",
    "from tqdm import trange\n",
    "from matplotlib import pyplot as plt\n",
    "from sklearn.model_selection import train_test_split\n",
    "import numpy as np\n",
    "%load_ext autotime"
   ]
  },
  {
   "cell_type": "markdown",
   "metadata": {},
   "source": [
    "## Simple"
   ]
  },
  {
   "cell_type": "code",
   "execution_count": 2,
   "metadata": {
    "scrolled": true
   },
   "outputs": [
    {
     "name": "stderr",
     "output_type": "stream",
     "text": [
      "Loss: 0.0004: 100%|██████████| 50/50 [00:11<00:00,  4.27it/s]\n"
     ]
    },
    {
     "data": {
      "text/plain": [
       "[<matplotlib.lines.Line2D at 0x7fb92509ea90>]"
      ]
     },
     "execution_count": 2,
     "metadata": {},
     "output_type": "execute_result"
    },
    {
     "data": {
      "image/png": "[encoded data removed]",
      "text/plain": [
       "<Figure size 432x288 with 1 Axes>"
      ]
     },
     "metadata": {
      "needs_background": "light"
     },
     "output_type": "display_data"
    },
    {
     "name": "stdout",
     "output_type": "stream",
     "text": [
      "time: 11.8 s (started: 2021-01-26 21:38:58 +07:00)\n"
     ]
    }
   ],
   "source": [
    "# device = torch.device(\"cuda:0\" if torch.cuda.is_available() else \"cpu\")\n",
    "device = \"cpu\"\n",
    "df = pd.read_csv('./house_data.csv')\n",
    "X = df[[\"sq_feet\", \"num_bedrooms\", \"num_bathrooms\"]]\n",
    "y = df[[\"sale_price\"]]\n",
    "\n",
    "X_scaler = MinMaxScaler(feature_range=(0, 1))\n",
    "y_scaler = MinMaxScaler(feature_range=(0, 1))\n",
    "X_scaled = X_scaler.fit_transform(X.to_numpy())\n",
    "y_scaled = y_scaler.fit_transform(y.to_numpy())\n",
    "\n",
    "X = torch.from_numpy(X_scaled).float().to(device)\n",
    "y = torch.from_numpy(y_scaled).float().to(device)\n",
    "\n",
    "dataset = TensorDataset(X, y)\n",
    "X_train, X_test, y_train, y_test = train_test_split(\n",
    "    X, y, test_size=0.25\n",
    ")\n",
    "batch_size = 8\n",
    "\n",
    "train = TensorDataset(X_train, y_train)\n",
    "train_dl = DataLoader(train, batch_size=batch_size)\n",
    "\n",
    "model = nn.Linear(3, 1).to(device)\n",
    "optimizer = torch.optim.SGD(model.parameters(), lr=1e-3)\n",
    "loss_function = nn.MSELoss()\n",
    "losses = []\n",
    "\n",
    "with trange(50) as t:\n",
    "    for i in t:\n",
    "        for inp, target in train_dl:\n",
    "            prediction = model(inp)\n",
    "            optimizer.zero_grad()\n",
    "            loss = loss_function(prediction, target)\n",
    "            loss.backward()\n",
    "            optimizer.step()\n",
    "        losses.append(loss.item())\n",
    "        t.set_description(f'Loss: {loss:.4f}')\n",
    "\n",
    "plt.plot(losses)"
   ]
  },
  {
   "cell_type": "code",
   "execution_count": 3,
   "metadata": {},
   "outputs": [
    {
     "name": "stdout",
     "output_type": "stream",
     "text": [
      "Model training results:\n",
      " - Training Set Error: 9543.7265625\n",
      " - Test Set Error: 9474.736328125\n",
      "time: 2.02 ms (started: 2021-01-26 21:39:10 +07:00)\n"
     ]
    }
   ],
   "source": [
    "print(\"Model training results:\")\n",
    "\n",
    "pred_train = model(X_train)\n",
    "mse_train = mean_absolute_error(\n",
    "    y_scaler.inverse_transform(pred_train.detach().numpy()), \n",
    "    y_scaler.inverse_transform(y_train.detach().numpy())\n",
    ")\n",
    "print(f\" - Training Set Error: {mse_train}\")\n",
    "\n",
    "pred_test = model(X_test)\n",
    "mse_test = mean_absolute_error(\n",
    "    y_scaler.inverse_transform(pred_test.detach().numpy()), \n",
    "    y_scaler.inverse_transform(y_test.detach().numpy())\n",
    ")\n",
    "print(f\" - Test Set Error: {mse_test}\")"
   ]
  },
  {
   "cell_type": "markdown",
   "metadata": {},
   "source": [
    "## Neural Network"
   ]
  },
  {
   "cell_type": "code",
   "execution_count": 4,
   "metadata": {},
   "outputs": [
    {
     "name": "stderr",
     "output_type": "stream",
     "text": [
      "Loss: 0.0013: 100%|██████████| 50/50 [00:29<00:00,  1.67it/s]\n"
     ]
    },
    {
     "data": {
      "text/plain": [
       "[<matplotlib.lines.Line2D at 0x7fb924fb59d0>]"
      ]
     },
     "execution_count": 4,
     "metadata": {},
     "output_type": "execute_result"
    },
    {
     "data": {
      "image/png": "[encoded data removed]",
      "text/plain": [
       "<Figure size 432x288 with 1 Axes>"
      ]
     },
     "metadata": {
      "needs_background": "light"
     },
     "output_type": "display_data"
    },
    {
     "name": "stdout",
     "output_type": "stream",
     "text": [
      "time: 30 s (started: 2021-01-26 21:39:10 +07:00)\n"
     ]
    }
   ],
   "source": [
    "H1, H2, H3 = 100, 50, 20\n",
    "D_in, D_out = 3, 1\n",
    "\n",
    "# device = \"cuda:0\"\n",
    "device = \"cpu\"\n",
    "df = pd.read_csv('./house_data.csv')\n",
    "X = df[[\"sq_feet\", \"num_bedrooms\", \"num_bathrooms\"]]\n",
    "y = df[[\"sale_price\"]]\n",
    "\n",
    "X_scaler = MinMaxScaler()\n",
    "y_scaler = MinMaxScaler()\n",
    "X_scaled = X_scaler.fit_transform(X.to_numpy())\n",
    "y_scaled = y_scaler.fit_transform(y.to_numpy())\n",
    "\n",
    "X = torch.from_numpy(X_scaled).float().to(device)\n",
    "y = torch.from_numpy(y_scaled).float().to(device)\n",
    "\n",
    "X_train, X_test, y_train, y_test = train_test_split(\n",
    "    X, y, test_size=0.25\n",
    ")\n",
    "batch_size = 8\n",
    "\n",
    "train = TensorDataset(X_train, y_train)\n",
    "\n",
    "train_dl = DataLoader(train, batch_size=batch_size)\n",
    "\n",
    "class HouseNet(nn.Module):\n",
    "    def __init__(self, D_in, H1, H2, H3, D_out):\n",
    "        super().__init__()\n",
    "        self.net = nn.Sequential(\n",
    "            nn.Linear(D_in, H1),\n",
    "            nn.ReLU(),\n",
    "            nn.Linear(H1, H2),\n",
    "            nn.ReLU(),\n",
    "            nn.Linear(H2, H3),\n",
    "            nn.ReLU(),\n",
    "            nn.Linear(H3, D_out)\n",
    "        )\n",
    "\n",
    "    def forward(self, x):\n",
    "        pred = self.net(x)\n",
    "        return pred\n",
    "\n",
    "\n",
    "model2 = HouseNet(D_in, H1, H2, H3, D_out).to(device)\n",
    "loss_fn = nn.MSELoss(reduction='sum')\n",
    "opt = torch.optim.SGD(model2.parameters(), lr=1e-3)\n",
    "losses = []\n",
    "\n",
    "with trange(50) as t:\n",
    "    for i in t:\n",
    "        for X, y in train_dl:\n",
    "            pred = model2(X)\n",
    "            opt.zero_grad()\n",
    "            loss = loss_fn(pred, y)\n",
    "            loss.backward()\n",
    "            opt.step()\n",
    "        losses.append(loss.item())\n",
    "        t.set_description(f'Loss: {loss:.4f}')\n",
    "\n",
    "plt.plot(losses)"
   ]
  },
  {
   "cell_type": "code",
   "execution_count": 5,
   "metadata": {},
   "outputs": [
    {
     "name": "stdout",
     "output_type": "stream",
     "text": [
      "Model training results:\n",
      " - Training Set Error: 9373.4375\n",
      " - Test Set Error: 9134.4775390625\n",
      "time: 8.73 ms (started: 2021-01-26 21:39:40 +07:00)\n"
     ]
    }
   ],
   "source": [
    "print(\"Model training results:\")\n",
    "\n",
    "pred_train = model2(X_train)\n",
    "mse_train = mean_absolute_error(\n",
    "    y_scaler.inverse_transform(pred_train.detach().numpy()), \n",
    "    y_scaler.inverse_transform(y_train.detach().numpy())\n",
    ")\n",
    "print(f\" - Training Set Error: {mse_train}\")\n",
    "\n",
    "pred_test = model2(X_test)\n",
    "mse_test = mean_absolute_error(\n",
    "    y_scaler.inverse_transform(pred_test.detach().numpy()), \n",
    "    y_scaler.inverse_transform(y_test.detach().numpy())\n",
    ")\n",
    "print(f\" - Test Set Error: {mse_test}\")"
   ]
  },
  {
   "cell_type": "code",
   "execution_count": 6,
   "metadata": {},
   "outputs": [
    {
     "name": "stdout",
     "output_type": "stream",
     "text": [
      "House details:\n",
      "- 2000 sq feet\n",
      "- 3 bedrooms\n",
      "- 2 bathrooms\n",
      "Estimated value: $383,683.97\n",
      "time: 1.5 ms (started: 2021-01-26 21:39:40 +07:00)\n"
     ]
    }
   ],
   "source": [
    "house_1 = [\n",
    "    2000, # Size in Square Feet\n",
    "    3, # Number of Bedrooms\n",
    "    2, # Number of Bathrooms\n",
    "]\n",
    "homes = [\n",
    "    house_1\n",
    "]\n",
    "scaled_home_data = np.array(X_scaler.transform(homes))\n",
    "home_values = model2(torch.from_numpy(scaled_home_data).float())\n",
    "unscaled_home_values = y_scaler.inverse_transform(home_values.detach().numpy())\n",
    "predicted_value = unscaled_home_values[0][0]\n",
    "# Print the results\n",
    "print(\"House details:\")\n",
    "print(f\"- {house_1[0]} sq feet\")\n",
    "print(f\"- {house_1[1]} bedrooms\")\n",
    "print(f\"- {house_1[2]} bathrooms\")\n",
    "print(f\"Estimated value: ${predicted_value:,.2f}\")"
   ]
  }
 ],
 "metadata": {
  "kernelspec": {
   "display_name": "Python 3",
   "language": "python",
   "name": "python3"
  },
  "language_info": {
   "codemirror_mode": {
    "name": "ipython",
    "version": 3
   },
   "file_extension": ".py",
   "mimetype": "text/x-python",
   "name": "python",
   "nbconvert_exporter": "python",
   "pygments_lexer": "ipython3",
   "version": "3.7.5"
  }
 },
 "nbformat": 4,
 "nbformat_minor": 4
}
